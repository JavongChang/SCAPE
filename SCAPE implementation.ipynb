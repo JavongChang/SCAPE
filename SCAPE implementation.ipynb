{
 "cells": [
  {
   "cell_type": "markdown",
   "metadata": {},
   "source": [
    "SCAPE"
   ]
  },
  {
   "cell_type": "markdown",
   "metadata": {},
   "source": [
    "SCAPE是一篇十分经典的论文，作者来自Stanford，博士答辩主席团里包括Andrew Ng。\n",
    "\n",
    "这篇文章做的事情就是将人体三维mesh模型进行参数化。\n",
    "\n",
    "步骤是：\n",
    "采集人体数据—数据预处理—从数据中学习参数—得到参数化模型后，调整参数得到新的人体模型。\n",
    "\n",
    "这篇文章的核心贡献是：\n",
    "1、一个不同姿势和不同体型的人体数据库，每个人体mesh都很好地进行了处理。\n",
    "2、通过调整参数，可以生成具有真实感的，和数据库中的人体，具有不同姿势和不同体型的新的人体mesh。\n",
    "\n",
    "实现过程中的心得：\n",
    "1、最小二乘法\n",
    "2、子空间学习—主成分分析\n"
   ]
  }
 ],
 "metadata": {
  "anaconda-cloud": {},
  "kernelspec": {
   "display_name": "Python [Root]",
   "language": "python",
   "name": "Python [Root]"
  },
  "language_info": {
   "codemirror_mode": {
    "name": "ipython",
    "version": 2
   },
   "file_extension": ".py",
   "mimetype": "text/x-python",
   "name": "python",
   "nbconvert_exporter": "python",
   "pygments_lexer": "ipython2",
   "version": "2.7.12"
  }
 },
 "nbformat": 4,
 "nbformat_minor": 0
}
